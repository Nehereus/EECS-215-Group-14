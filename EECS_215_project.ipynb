{
  "nbformat": 4,
  "nbformat_minor": 0,
  "metadata": {
    "colab": {
      "provenance": []
    },
    "kernelspec": {
      "name": "python3",
      "display_name": "Python 3"
    },
    "language_info": {
      "name": "python"
    }
  },
  "cells": [
    {
      "cell_type": "code",
      "source": [
        "import json\n",
        "import re\n",
        "import numpy as np\n",
        "import random\n",
        "import csv\n",
        "from datetime import datetime, timedelta\n",
        "import matplotlib.pyplot as plt\n",
        "\n",
        "# Dict [<id>]= dict[conversation: dict[<id>],\n",
        "# proximity: dict[<id>],\n",
        "# attention: dict[<id>],\n",
        "# time:<a timedelta obj used by the group>\n",
        "# accuracy: <accuracy used by the group>]\n",
        "# id = #group_#person\n",
        "time_acc = {}\n",
        "data = {}\n",
        "type_map = {\n",
        "    'shared': 'attention',\n",
        "    'proximity': 'proximity',\n",
        "    'speaking': 'conversation'\n",
        "}\n",
        "\n",
        "with open('shared_attention_graphs.json', 'r') as file:\n",
        "    attention_data = json.load(file)['graphs']\n",
        "\n",
        "with open('proximity_graphs.json', 'r') as file:\n",
        "    proximity_data = json.load(file)['graphs']\n",
        "\n",
        "with open('conversation_graphs.json', 'r') as file:\n",
        "    conversation_data = json.load(file)['graphs']\n",
        "\n",
        "def extract_group_number(graph_id):\n",
        "    match = re.search(r'group-(\\d+)', graph_id)\n",
        "    return int(match.group(1)) if match else float('inf')\n",
        "\n",
        "def traverse_data (json):\n",
        "    for block in json:\n",
        "      info = block['id'].split('-')\n",
        "      gid = info[1]\n",
        "      gtype = type_map[info[2]]\n",
        "      for edge in block['edges']:\n",
        "        sid = f'{gid}_{edge[\"source\"]}'\n",
        "        tid = f'{gid}_{edge[\"target\"]}'\n",
        "        if sid not in data:\n",
        "          # initialize entry\n",
        "          data[sid] = {\n",
        "              'attention': {},\n",
        "              'proximity': {},\n",
        "              'conversation': {},\n",
        "              'time':-1,\n",
        "              'accuracy':-1,\n",
        "          }\n",
        "        if tid not in data:\n",
        "          # initialize entry\n",
        "          data[tid] = {\n",
        "              'attention': {},\n",
        "              'proximity': {},\n",
        "              'conversation': {},\n",
        "              'time':-1,\n",
        "              'accuracy':-1,\n",
        "          }\n",
        "        if not edge['directed']:\n",
        "          data[tid][gtype][sid] = edge['metadata']['weight']\n",
        "        data[sid][gtype][tid] = edge['metadata']['weight']\n",
        "        data[sid]['time']= time_acc[gid][0]\n",
        "        data[sid]['accuracy']= time_acc[gid][1]\n",
        "\n",
        "def string_to_timedelta(time_str):\n",
        "    days, time_part = time_str.split(' days ')\n",
        "    hours, minutes, seconds,nano = map(float, time_part.replace('.', ':').split(':'))\n",
        "    return timedelta(days=int(days), hours=int(hours), minutes=int(minutes), seconds=seconds)\n",
        "\n",
        "def parse_csv(csv_path):\n",
        "  with open(csv_path, 'r') as file:\n",
        "      reader = csv.reader(file)\n",
        "      next(reader)  # Skip the header row\n",
        "      for row in reader:\n",
        "        delta = string_to_timedelta(row[1])\n",
        "        accuracy = float(row[2])\n",
        "        gid = row[0]\n",
        "        time_acc[gid] = (delta, accuracy)\n",
        "\n",
        "parse_csv('completion_time_and_accuracy.csv')\n",
        "traverse_data(attention_data)\n",
        "traverse_data(proximity_data)\n",
        "traverse_data(conversation_data)"
      ],
      "metadata": {
        "id": "I-QkQi01jAxZ"
      },
      "execution_count": 56,
      "outputs": []
    },
    {
      "cell_type": "code",
      "source": [
        "print(data[\"10_A\"])"
      ],
      "metadata": {
        "id": "1Nlz3vpHwtRe",
        "colab": {
          "base_uri": "https://localhost:8080/"
        },
        "outputId": "8f013e92-26d4-4391-973b-d0f9434b83ee"
      },
      "execution_count": 57,
      "outputs": [
        {
          "output_type": "stream",
          "name": "stdout",
          "text": [
            "{'attention': {'10_B': 504, '10_D': 196, '10_C': 640}, 'proximity': {'10_B': 328, '10_C': 185, '10_D': 150}, 'conversation': {'10_B': 96.354, '10_C': 96.354, '10_D': 96.354}, 'time': datetime.timedelta(seconds=652), 'accuracy': 50.0}\n"
          ]
        }
      ]
    },
    {
      "cell_type": "markdown",
      "source": [],
      "metadata": {
        "id": "BayOOPtzja1E"
      }
    },
    {
      "cell_type": "code",
      "source": [
        "def give_cluster_env(data):\n",
        "\n",
        "    kmeans_data = []\n",
        "    keys = list(data.keys())\n",
        "\n",
        "    for key in keys:\n",
        "      if key != \"10_B\":\n",
        "        element = data[key]\n",
        "        attention_mean = np.mean(list(element['attention'].values()))\n",
        "        proximity_mean = np.mean(list(element['proximity'].values()))\n",
        "        # proximity_mean = 0\n",
        "        conversation_mean = np.mean(list(element['conversation'].values()))\n",
        "        # conversation_mean = 0\n",
        "        kmeans_data.append([attention_mean, proximity_mean, conversation_mean])\n",
        "\n",
        "    element = data[\"10_B\"]\n",
        "    attention_mean = np.mean(list(element['attention'].values()))\n",
        "    proximity_mean = np.mean(list(element['proximity'].values()))\n",
        "    # proximity_mean = 0\n",
        "    conversation_mean = ( np.mean(list(data[\"10_A\"]['conversation'].values())) + np.mean(list(data[\"10_C\"]['conversation'].values()))+np.mean(list(data[\"10_D\"]['conversation'].values()))) / 3\n",
        "    # conversation_mean = 0\n",
        "    kmeans_data.append([attention_mean, proximity_mean, conversation_mean])\n",
        "\n",
        "    return kmeans_data"
      ],
      "metadata": {
        "id": "fV6xt2oPxHpe"
      },
      "execution_count": 58,
      "outputs": []
    },
    {
      "cell_type": "code",
      "source": [
        "def dis(x, y):\n",
        "    return np.sqrt(np.sum((np.array(x) - np.array(y)) ** 2))"
      ],
      "metadata": {
        "id": "mDU2QVjqxJoo"
      },
      "execution_count": 59,
      "outputs": []
    },
    {
      "cell_type": "code",
      "source": [
        "'''\n",
        "def initialize_centers(data, k):\n",
        "    n_samples, _ = data.shape\n",
        "    centers = []\n",
        "    # Step 1: Choose the first center randomly\n",
        "    centers.append(data[random.randint(0, n_samples - 1)])\n",
        "\n",
        "    for _ in range(1, k):\n",
        "        # Step 2: Compute the squared distances from each point to the nearest center\n",
        "        distances = np.array([\n",
        "            min(np.sum((x - center) ** 2) for center in centers)\n",
        "            for x in data\n",
        "        ])\n",
        "        # Step 3: Choose the next center with a probability proportional to the squared distances\n",
        "        probabilities = distances / distances.sum()\n",
        "        cumulative_probabilities = np.cumsum(probabilities)\n",
        "        r = random.random()\n",
        "        for idx, prob in enumerate(cumulative_probabilities):\n",
        "            if r <= prob:\n",
        "                centers.append(data[idx])\n",
        "                break\n",
        "    return np.array(centers)\n",
        "'''\n",
        "def initialize_centers(data, k):\n",
        "    return random.sample(data.tolist(), k)\n",
        "\n"
      ],
      "metadata": {
        "id": "xS5rY5QxxaY-"
      },
      "execution_count": 61,
      "outputs": []
    },
    {
      "cell_type": "code",
      "source": [
        "def assign_clusters(data, centers):\n",
        "    cluster_labels = []\n",
        "    for point in data:\n",
        "        distances = [dis(point, center) for center in centers]\n",
        "        cluster_labels.append(np.argmin(distances))\n",
        "    return cluster_labels\n",
        "\n",
        "def update_centers(data, cluster_labels, k):\n",
        "    new_centers = []\n",
        "    for i in range(k):\n",
        "        points_in_cluster = [data[j] for j in range(len(data)) if cluster_labels[j] == i]\n",
        "        if points_in_cluster:\n",
        "            new_centers.append(np.mean(points_in_cluster, axis=0))\n",
        "        else:\n",
        "            new_centers.append(random.choice(data))\n",
        "    return new_centers"
      ],
      "metadata": {
        "id": "Ycw1yfeL05--"
      },
      "execution_count": 63,
      "outputs": []
    },
    {
      "cell_type": "code",
      "source": [
        "def Kmeans(data, k, iterations):\n",
        "    centers = initialize_centers(data, k)\n",
        "    for _ in range(iterations):\n",
        "        cluster_labels = assign_clusters(data, centers)\n",
        "        centers = update_centers(data, cluster_labels, k)\n",
        "    return centers, cluster_labels\n",
        "\n",
        "def Kmeans_wrapper(data, k, iterations):\n",
        "    if not data or k <= 0 or iterations <= 0:\n",
        "        raise ValueError(\"Invalid input parameters.\")\n",
        "    data_array = np.array(data)\n",
        "    final_centers, labels = Kmeans(data_array, k, iterations)\n",
        "    return final_centers, labels"
      ],
      "metadata": {
        "id": "BW9V4nXfxe0D"
      },
      "execution_count": 64,
      "outputs": []
    },
    {
      "cell_type": "code",
      "source": [
        "def use_kmeans(data):\n",
        "    k = 4\n",
        "    iterations = 500\n",
        "    final_centers, labels = Kmeans_wrapper(give_cluster_env(data), k, iterations)\n",
        "    # final_centers, labels = Kmeans_wrapper(data, k, iterations)\n",
        "    print(\"Final cluster centers:\", final_centers)\n",
        "    print(\"Cluster labels:\", labels)\n",
        "    return labels"
      ],
      "metadata": {
        "id": "Nc0_CoEqxojf"
      },
      "execution_count": 65,
      "outputs": []
    },
    {
      "cell_type": "code",
      "source": [
        "def count(data):\n",
        "  count = [0,0,0,0]\n",
        "  for i in data:\n",
        "    if i == 0:\n",
        "      count[0] = count[0]+1\n",
        "    elif i ==1:\n",
        "      count[1] = count[1]+1\n",
        "    elif i ==2:\n",
        "      count[2] = count[2]+1\n",
        "    elif i ==3:\n",
        "      count[3] = count[3]+1\n",
        "  return count"
      ],
      "metadata": {
        "id": "2WqxWDaKyfIy"
      },
      "execution_count": 66,
      "outputs": []
    },
    {
      "cell_type": "code",
      "source": [
        "def find_std(n):\n",
        "  outputs = []\n",
        "  for _ in range(n):\n",
        "    outputs.append(np.sort(count(use_kmeans(data))))\n",
        "  return np.std(outputs,axis=0)"
      ],
      "metadata": {
        "id": "S0w1PkSs5NDv"
      },
      "execution_count": null,
      "outputs": []
    },
    {
      "cell_type": "code",
      "source": [
        "\n",
        "# for test\n",
        "# data = [[1, 2, 3, 4], [5, 6, 7, 8], [2, 3, 4, 5], [8, 7, 6, 5], [3, 4, 5, 6]]\n",
        "outputs = []\n",
        "for _ in range(30):\n",
        "  outputs.append(np.sort(count(use_kmeans(data))))\n",
        "np.std(outputs,axis=0)\n",
        "\n",
        "def visualization(data,):"
      ],
      "metadata": {
        "id": "RBzLxk2xyIRq",
        "colab": {
          "base_uri": "https://localhost:8080/"
        },
        "outputId": "04dceef0-d8a1-4bf2-9ffd-5ce7547ebc59"
      },
      "execution_count": 67,
      "outputs": [
        {
          "output_type": "stream",
          "name": "stdout",
          "text": [
            "Final cluster centers: [array([657.07407407, 153.62962963,  70.97244444]), array([1899.33333333,  450.33333333,   79.03725   ]), array([107.57407407, 142.40740741,  54.41238889]), array([436.41025641, 219.07692308,  79.87023077])]\n",
            "Cluster labels: [2, 3, 3, 1, 1, 1, 1, 3, 3, 3, 3, 2, 2, 2, 2, 2, 2, 2, 2, 0, 2, 3, 3, 3, 3, 0, 3, 0, 0, 3, 0, 2, 2, 2, 2, 2, 2, 2, 2, 0, 0, 0, 0, 3]\n",
            "Final cluster centers: [array([1899.33333333,  450.33333333,   79.03725   ]), array([ 79.64102564, 127.66666667,  54.914     ]), array([536.96825397, 195.53968254,  77.24461905]), array([201.94444444, 171.33333333,  53.4115    ])]\n",
            "Cluster labels: [3, 2, 2, 0, 0, 0, 0, 2, 2, 2, 2, 1, 1, 1, 1, 3, 1, 1, 3, 2, 3, 2, 2, 2, 2, 2, 3, 2, 2, 2, 2, 1, 1, 1, 1, 1, 1, 1, 3, 2, 2, 2, 2, 2]\n",
            "Final cluster centers: [array([145.78571429, 159.45238095,  64.57314286]), array([41.2       , 91.06666667, 26.0654    ]), array([1899.33333333,  450.33333333,   79.03725   ]), array([536.96825397, 195.53968254,  77.24461905])]\n",
            "Cluster labels: [0, 3, 3, 2, 2, 2, 2, 3, 3, 3, 3, 0, 0, 1, 0, 0, 0, 0, 0, 3, 0, 3, 3, 3, 3, 3, 0, 3, 3, 3, 3, 1, 1, 1, 1, 0, 0, 0, 0, 3, 3, 3, 3, 3]\n",
            "Final cluster centers: [array([107.57407407, 142.40740741,  54.41238889]), array([436.41025641, 219.07692308,  79.87023077]), array([657.07407407, 153.62962963,  70.97244444]), array([1899.33333333,  450.33333333,   79.03725   ])]\n",
            "Cluster labels: [0, 1, 1, 3, 3, 3, 3, 1, 1, 1, 1, 0, 0, 0, 0, 0, 0, 0, 0, 2, 0, 1, 1, 1, 1, 2, 1, 2, 2, 1, 2, 0, 0, 0, 0, 0, 0, 0, 0, 2, 2, 2, 2, 1]\n",
            "Final cluster centers: [array([215.13333333, 161.73333333,  59.3318    ]), array([ 83.66666667, 134.21428571,  52.69228571]), array([1899.33333333,  450.33333333,   79.03725   ]), array([536.96825397, 195.53968254,  77.24461905])]\n",
            "Cluster labels: [0, 3, 3, 2, 2, 2, 2, 3, 3, 3, 3, 1, 1, 1, 1, 0, 1, 1, 0, 3, 0, 3, 3, 3, 3, 3, 0, 3, 3, 3, 3, 1, 1, 1, 1, 1, 1, 1, 1, 3, 3, 3, 3, 3]\n",
            "Final cluster centers: [array([526.38888889, 190.18518519,  51.83594444]), array([1899.33333333,  450.33333333,   79.03725   ]), array([600.44444444, 227.66666667, 229.69666667]), array([118.26315789, 141.45614035,  54.43952632])]\n",
            "Cluster labels: [3, 0, 0, 1, 1, 1, 1, 0, 0, 2, 0, 3, 3, 3, 3, 3, 3, 3, 3, 0, 3, 0, 0, 0, 0, 0, 3, 0, 2, 0, 0, 3, 3, 3, 3, 3, 3, 3, 3, 0, 0, 0, 2, 0]\n",
            "Final cluster centers: [array([1899.33333333,  450.33333333,   79.03725   ]), array([107.57407407, 142.40740741,  54.41238889]), array([436.41025641, 219.07692308,  79.87023077]), array([657.07407407, 153.62962963,  70.97244444])]\n",
            "Cluster labels: [1, 2, 2, 0, 0, 0, 0, 2, 2, 2, 2, 1, 1, 1, 1, 1, 1, 1, 1, 3, 1, 2, 2, 2, 2, 3, 2, 3, 3, 2, 3, 1, 1, 1, 1, 1, 1, 1, 1, 3, 3, 3, 3, 2]\n",
            "Final cluster centers: [array([1899.33333333,  450.33333333,   79.03725   ]), array([145.78571429, 159.45238095,  64.57314286]), array([41.2       , 91.06666667, 26.0654    ]), array([536.96825397, 195.53968254,  77.24461905])]\n",
            "Cluster labels: [1, 3, 3, 0, 0, 0, 0, 3, 3, 3, 3, 1, 1, 2, 1, 1, 1, 1, 1, 3, 1, 3, 3, 3, 3, 3, 1, 3, 3, 3, 3, 2, 2, 2, 2, 1, 1, 1, 1, 3, 3, 3, 3, 3]\n",
            "Final cluster centers: [array([145.78571429, 159.45238095,  64.57314286]), array([536.96825397, 195.53968254,  77.24461905]), array([1899.33333333,  450.33333333,   79.03725   ]), array([41.2       , 91.06666667, 26.0654    ])]\n",
            "Cluster labels: [0, 1, 1, 2, 2, 2, 2, 1, 1, 1, 1, 0, 0, 3, 0, 0, 0, 0, 0, 1, 0, 1, 1, 1, 1, 1, 0, 1, 1, 1, 1, 3, 3, 3, 3, 0, 0, 0, 0, 1, 1, 1, 1, 1]\n",
            "Final cluster centers: [array([1899.33333333,  450.33333333,   79.03725   ]), array([191.38095238, 171.71428571,  51.68028571]), array([ 75.61111111, 123.80555556,  56.04908333]), array([536.96825397, 195.53968254,  77.24461905])]\n",
            "Cluster labels: [1, 3, 3, 0, 0, 0, 0, 3, 3, 3, 3, 2, 2, 2, 2, 1, 2, 2, 1, 3, 1, 3, 3, 3, 3, 3, 1, 3, 3, 3, 3, 2, 2, 2, 2, 2, 2, 1, 1, 3, 3, 3, 3, 3]\n",
            "Final cluster centers: [array([1899.33333333,  450.33333333,   79.03725   ]), array([ 83.66666667, 134.21428571,  52.69228571]), array([544.08333333, 201.36666667,  79.5915    ]), array([245.05555556, 147.94444444,  54.49433333])]\n",
            "Cluster labels: [3, 2, 2, 0, 0, 0, 0, 2, 2, 2, 2, 1, 1, 1, 1, 3, 1, 1, 3, 2, 3, 3, 2, 2, 2, 2, 3, 2, 2, 2, 2, 1, 1, 1, 1, 1, 1, 1, 1, 2, 2, 2, 2, 2]\n",
            "Final cluster centers: [array([536.96825397, 195.53968254,  77.24461905]), array([118.1372549 , 130.1372549 ,  39.12535294]), array([119.33333333, 237.66666667, 184.61      ]), array([1899.33333333,  450.33333333,   79.03725   ])]\n",
            "Cluster labels: [2, 0, 0, 3, 3, 3, 3, 0, 0, 0, 0, 1, 1, 1, 1, 1, 1, 1, 1, 0, 1, 0, 0, 0, 0, 0, 1, 0, 0, 0, 0, 1, 1, 1, 1, 2, 1, 1, 1, 0, 0, 0, 0, 0]\n",
            "Final cluster centers: [array([107.57407407, 142.40740741,  54.41238889]), array([657.07407407, 153.62962963,  70.97244444]), array([436.41025641, 219.07692308,  79.87023077]), array([1899.33333333,  450.33333333,   79.03725   ])]\n",
            "Cluster labels: [0, 2, 2, 3, 3, 3, 3, 2, 2, 2, 2, 0, 0, 0, 0, 0, 0, 0, 0, 1, 0, 2, 2, 2, 2, 1, 2, 1, 1, 2, 1, 0, 0, 0, 0, 0, 0, 0, 0, 1, 1, 1, 1, 2]\n",
            "Final cluster centers: [array([657.07407407, 153.62962963,  70.97244444]), array([1899.33333333,  450.33333333,   79.03725   ]), array([436.41025641, 219.07692308,  79.87023077]), array([107.57407407, 142.40740741,  54.41238889])]\n",
            "Cluster labels: [3, 2, 2, 1, 1, 1, 1, 2, 2, 2, 2, 3, 3, 3, 3, 3, 3, 3, 3, 0, 3, 2, 2, 2, 2, 0, 2, 0, 0, 2, 0, 3, 3, 3, 3, 3, 3, 3, 3, 0, 0, 0, 0, 2]\n",
            "Final cluster centers: [array([1899.33333333,  450.33333333,   79.03725   ]), array([436.41025641, 219.07692308,  79.87023077]), array([657.07407407, 153.62962963,  70.97244444]), array([107.57407407, 142.40740741,  54.41238889])]\n",
            "Cluster labels: [3, 1, 1, 0, 0, 0, 0, 1, 1, 1, 1, 3, 3, 3, 3, 3, 3, 3, 3, 2, 3, 1, 1, 1, 1, 2, 1, 2, 2, 1, 2, 3, 3, 3, 3, 3, 3, 3, 3, 2, 2, 2, 2, 1]\n",
            "Final cluster centers: [array([550.26315789, 202.70175439,  80.94378947]), array([1899.33333333,  450.33333333,   79.03725   ]), array([100.74509804, 145.1372549 ,  57.48905882]), array([338.91666667, 118.83333333,  35.3105    ])]\n",
            "Cluster labels: [2, 0, 0, 1, 1, 1, 1, 0, 0, 0, 0, 2, 2, 2, 2, 2, 2, 2, 2, 0, 3, 3, 0, 3, 0, 0, 3, 0, 0, 0, 0, 2, 2, 2, 2, 2, 2, 2, 2, 0, 0, 0, 0, 0]\n",
            "Final cluster centers: [array([1899.33333333,  450.33333333,   79.03725   ]), array([536.96825397, 195.53968254,  77.24461905]), array([145.78571429, 159.45238095,  64.57314286]), array([41.2       , 91.06666667, 26.0654    ])]\n",
            "Cluster labels: [2, 1, 1, 0, 0, 0, 0, 1, 1, 1, 1, 2, 2, 3, 2, 2, 2, 2, 2, 1, 2, 1, 1, 1, 1, 1, 2, 1, 1, 1, 1, 3, 3, 3, 3, 2, 2, 2, 2, 1, 1, 1, 1, 1]\n",
            "Final cluster centers: [array([107.57407407, 142.40740741,  54.41238889]), array([657.07407407, 153.62962963,  70.97244444]), array([1899.33333333,  450.33333333,   79.03725   ]), array([436.41025641, 219.07692308,  79.87023077])]\n",
            "Cluster labels: [0, 3, 3, 2, 2, 2, 2, 3, 3, 3, 3, 0, 0, 0, 0, 0, 0, 0, 0, 1, 0, 3, 3, 3, 3, 1, 3, 1, 1, 3, 1, 0, 0, 0, 0, 0, 0, 0, 0, 1, 1, 1, 1, 3]\n",
            "Final cluster centers: [array([1899.33333333,  450.33333333,   79.03725   ]), array([536.96825397, 195.53968254,  77.24461905]), array([145.78571429, 159.45238095,  64.57314286]), array([41.2       , 91.06666667, 26.0654    ])]\n",
            "Cluster labels: [2, 1, 1, 0, 0, 0, 0, 1, 1, 1, 1, 2, 2, 3, 2, 2, 2, 2, 2, 1, 2, 1, 1, 1, 1, 1, 2, 1, 1, 1, 1, 3, 3, 3, 3, 2, 2, 2, 2, 1, 1, 1, 1, 1]\n",
            "Final cluster centers: [array([167.22222222, 173.96296296,  70.60966667]), array([536.96825397, 195.53968254,  77.24461905]), array([ 74.2   , 112.2   ,  39.8864]), array([1899.33333333,  450.33333333,   79.03725   ])]\n",
            "Cluster labels: [0, 1, 1, 3, 3, 3, 3, 1, 1, 1, 1, 2, 2, 2, 2, 0, 2, 0, 0, 1, 0, 1, 1, 1, 1, 1, 0, 1, 1, 1, 1, 2, 2, 2, 2, 0, 2, 0, 0, 1, 1, 1, 1, 1]\n",
            "Final cluster centers: [array([53.88888889, 93.        , 26.63833333]), array([1899.33333333,  450.33333333,   79.03725   ]), array([147.97435897, 163.82051282,  67.27084615]), array([536.96825397, 195.53968254,  77.24461905])]\n",
            "Cluster labels: [2, 3, 3, 1, 1, 1, 1, 3, 3, 3, 3, 0, 2, 0, 2, 2, 2, 2, 2, 3, 2, 3, 3, 3, 3, 3, 2, 3, 3, 3, 3, 0, 0, 0, 0, 2, 2, 2, 2, 3, 3, 3, 3, 3]\n",
            "Final cluster centers: [array([436.41025641, 219.07692308,  79.87023077]), array([107.57407407, 142.40740741,  54.41238889]), array([657.07407407, 153.62962963,  70.97244444]), array([1899.33333333,  450.33333333,   79.03725   ])]\n",
            "Cluster labels: [1, 0, 0, 3, 3, 3, 3, 0, 0, 0, 0, 1, 1, 1, 1, 1, 1, 1, 1, 2, 1, 0, 0, 0, 0, 2, 0, 2, 2, 0, 2, 1, 1, 1, 1, 1, 1, 1, 1, 2, 2, 2, 2, 0]\n",
            "Final cluster centers: [array([167.22222222, 173.96296296,  70.60966667]), array([1899.33333333,  450.33333333,   79.03725   ]), array([ 74.2   , 112.2   ,  39.8864]), array([536.96825397, 195.53968254,  77.24461905])]\n",
            "Cluster labels: [0, 3, 3, 1, 1, 1, 1, 3, 3, 3, 3, 2, 2, 2, 2, 0, 2, 0, 0, 3, 0, 3, 3, 3, 3, 3, 0, 3, 3, 3, 3, 2, 2, 2, 2, 0, 2, 0, 0, 3, 3, 3, 3, 3]\n",
            "Final cluster centers: [array([436.41025641, 219.07692308,  79.87023077]), array([657.07407407, 153.62962963,  70.97244444]), array([1899.33333333,  450.33333333,   79.03725   ]), array([107.57407407, 142.40740741,  54.41238889])]\n",
            "Cluster labels: [3, 0, 0, 2, 2, 2, 2, 0, 0, 0, 0, 3, 3, 3, 3, 3, 3, 3, 3, 1, 3, 0, 0, 0, 0, 1, 0, 1, 1, 0, 1, 3, 3, 3, 3, 3, 3, 3, 3, 1, 1, 1, 1, 0]\n",
            "Final cluster centers: [array([107.57407407, 142.40740741,  54.41238889]), array([657.07407407, 153.62962963,  70.97244444]), array([436.41025641, 219.07692308,  79.87023077]), array([1899.33333333,  450.33333333,   79.03725   ])]\n",
            "Cluster labels: [0, 2, 2, 3, 3, 3, 3, 2, 2, 2, 2, 0, 0, 0, 0, 0, 0, 0, 0, 1, 0, 2, 2, 2, 2, 1, 2, 1, 1, 2, 1, 0, 0, 0, 0, 0, 0, 0, 0, 1, 1, 1, 1, 2]\n",
            "Final cluster centers: [array([536.96825397, 195.53968254,  77.24461905]), array([41.2       , 91.06666667, 26.0654    ]), array([145.78571429, 159.45238095,  64.57314286]), array([1899.33333333,  450.33333333,   79.03725   ])]\n",
            "Cluster labels: [2, 0, 0, 3, 3, 3, 3, 0, 0, 0, 0, 2, 2, 1, 2, 2, 2, 2, 2, 0, 2, 0, 0, 0, 0, 0, 2, 0, 0, 0, 0, 1, 1, 1, 1, 2, 2, 2, 2, 0, 0, 0, 0, 0]\n",
            "Final cluster centers: [array([100.74509804, 145.1372549 ,  57.48905882]), array([1899.33333333,  450.33333333,   79.03725   ]), array([309.66666667,  99.77777778,  29.11466667]), array([544.08333333, 201.36666667,  79.5915    ])]\n",
            "Cluster labels: [0, 3, 3, 1, 1, 1, 1, 3, 3, 3, 3, 0, 0, 0, 0, 0, 0, 0, 0, 3, 2, 2, 3, 3, 3, 3, 2, 3, 3, 3, 3, 0, 0, 0, 0, 0, 0, 0, 0, 3, 3, 3, 3, 3]\n",
            "Final cluster centers: [array([1899.33333333,  450.33333333,   79.03725   ]), array([536.96825397, 195.53968254,  77.24461905]), array([118.1372549 , 130.1372549 ,  39.12535294]), array([119.33333333, 237.66666667, 184.61      ])]\n",
            "Cluster labels: [3, 1, 1, 0, 0, 0, 0, 1, 1, 1, 1, 2, 2, 2, 2, 2, 2, 2, 2, 1, 2, 1, 1, 1, 1, 1, 2, 1, 1, 1, 1, 2, 2, 2, 2, 3, 2, 2, 2, 1, 1, 1, 1, 1]\n",
            "Final cluster centers: [array([1899.33333333,  450.33333333,   79.03725   ]), array([536.96825397, 195.53968254,  77.24461905]), array([53.88888889, 93.        , 26.63833333]), array([147.97435897, 163.82051282,  67.27084615])]\n",
            "Cluster labels: [3, 1, 1, 0, 0, 0, 0, 1, 1, 1, 1, 2, 3, 2, 3, 3, 3, 3, 3, 1, 3, 1, 1, 1, 1, 1, 3, 1, 1, 1, 1, 2, 2, 2, 2, 3, 3, 3, 3, 1, 1, 1, 1, 1]\n",
            "Final cluster centers: [array([1899.33333333,  450.33333333,   79.03725   ]), array([436.41025641, 219.07692308,  79.87023077]), array([657.07407407, 153.62962963,  70.97244444]), array([107.57407407, 142.40740741,  54.41238889])]\n",
            "Cluster labels: [3, 1, 1, 0, 0, 0, 0, 1, 1, 1, 1, 3, 3, 3, 3, 3, 3, 3, 3, 2, 3, 1, 1, 1, 1, 2, 1, 2, 2, 1, 2, 3, 3, 3, 3, 3, 3, 3, 3, 2, 2, 2, 2, 1]\n"
          ]
        },
        {
          "output_type": "execute_result",
          "data": {
            "text/plain": [
              "array([0.54160256, 2.06047459, 1.82452429, 1.39403491])"
            ]
          },
          "metadata": {},
          "execution_count": 67
        }
      ]
    },
    {
      "cell_type": "code",
      "source": [
        "outputs"
      ],
      "metadata": {
        "id": "3B1vBOtn4NjZ"
      },
      "execution_count": null,
      "outputs": []
    }
  ]
}